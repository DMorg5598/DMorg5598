{
 "cells": [
  {
   "cell_type": "markdown",
   "metadata": {},
   "source": [
    "<center>\n",
    "    <img src=\"https://s3-api.us-geo.objectstorage.softlayer.net/cf-courses-data/CognitiveClass/Logos/organization_logo/organization_logo.png\" width=\"300\" alt=\"cognitiveclass.ai logo\"  />\n",
    "</center>\n"
   ]
  },
  {
   "cell_type": "markdown",
   "metadata": {},
   "source": [
    "#### Add your code below following the instructions given in the course\n"
   ]
  },
  {
   "cell_type": "markdown",
   "metadata": {},
   "source": [
    "<h1>My Jupyter Notebook on IBM Watson Studio</h1>"
   ]
  },
  {
   "cell_type": "markdown",
   "metadata": {},
   "source": [
    "<strong>Darren Morgan</strong>\n",
    "<br>Desired Occupation: Data Engineer"
   ]
  },
  {
   "cell_type": "markdown",
   "metadata": {},
   "source": [
    "<em>I am interested in data science because I think it is the future of society. I believe we are on the frontier of great knowledge.</em>"
   ]
  },
  {
   "cell_type": "markdown",
   "metadata": {},
   "source": [
    "<h3>This code will count the sales by product</h3>"
   ]
  },
  {
   "cell_type": "code",
   "execution_count": 2,
   "metadata": {},
   "outputs": [
    {
     "name": "stdout",
     "output_type": "stream",
     "text": [
      "[1, 3, 2, 1]\n"
     ]
    }
   ],
   "source": [
    "inventorylist = [\"bucket\", \"hat\", \"shovel\", \"shirt\"]\n",
    "saleslist = [\"bucket\", \"hat\", \"shovel\", \"shovel\", \"shirt\", \"hat\", \"hat\"]\n",
    "salescount = []\n",
    "for x in inventorylist:\n",
    "             y = saleslist.count(x)\n",
    "             salescount.append(y)\n",
    "print(salescount)"
   ]
  },
  {
   "cell_type": "markdown",
   "metadata": {},
   "source": [
    "******\n",
    "List of products:\n",
    "<ul>\n",
    "  <li>bucket</li>\n",
    "  <li>hat</li>\n",
    "  <li>shovel</li>\n",
    "  <li>shirt</li>\n",
    "</ul>\n",
    "\n",
    "> These lines do the magic!\n",
    "\n",
    "> y = saleslist.count(x)            \n",
    "> salescount.append(y)\n"
   ]
  },
  {
   "cell_type": "code",
   "execution_count": null,
   "metadata": {},
   "outputs": [],
   "source": []
  }
 ],
 "metadata": {
  "kernelspec": {
   "display_name": "Python",
   "language": "python",
   "name": "conda-env-python-py"
  },
  "language_info": {
   "codemirror_mode": {
    "name": "ipython",
    "version": 3
   },
   "file_extension": ".py",
   "mimetype": "text/x-python",
   "name": "python",
   "nbconvert_exporter": "python",
   "pygments_lexer": "ipython3",
   "version": "3.7.12"
  }
 },
 "nbformat": 4,
 "nbformat_minor": 4
}
